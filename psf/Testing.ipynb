{
 "cells": [
  {
   "cell_type": "markdown",
   "metadata": {},
   "source": [
    "# Testing the function "
   ]
  },
  {
   "cell_type": "code",
   "execution_count": 1,
   "metadata": {},
   "outputs": [],
   "source": [
    "import numpy as np"
   ]
  },
  {
   "cell_type": "code",
   "execution_count": 2,
   "metadata": {},
   "outputs": [],
   "source": [
    "#model: Y = 3X + 4\n",
    "#size of training data and scale of random noise \n",
    "pts=50 \n",
    "noisescale=.05\n",
    "\n",
    "x=np.linspace(-5,5,num=pts)\n",
    "\n",
    "yactual_1 = np.sin(x * 0.5*np.pi)\n",
    "yactual_2 = -(0.5 * (x-2))**2\n",
    "yactual_3 = -(0.5* (x+2))**2\n",
    "yactual = yactual_1 + yactual_2 + yactual_3\n",
    "#np.random.seed(123) for reproducible \n",
    "#add noise scaled to 25% of range to data\n",
    "yrand=yactual+noisescale*(yactual.max()-yactual.min())*np.random.normal(size=pts)"
   ]
  },
  {
   "cell_type": "code",
   "execution_count": 3,
   "metadata": {},
   "outputs": [],
   "source": [
    "import peak_shoulder_finder as psf"
   ]
  },
  {
   "cell_type": "code",
   "execution_count": 6,
   "metadata": {},
   "outputs": [
    {
     "name": "stdout",
     "output_type": "stream",
     "text": [
      "[27]\n"
     ]
    }
   ],
   "source": [
    "i2 = psf.overall(yrand, frame=15)\n",
    "print(i2)\n"
   ]
  },
  {
   "cell_type": "code",
   "execution_count": null,
   "metadata": {},
   "outputs": [],
   "source": [
    "import matplotlib.pyplot as plt\n",
    "%matplotlib inline"
   ]
  }
 ],
 "metadata": {
  "kernelspec": {
   "display_name": "Python 3",
   "language": "python",
   "name": "python3"
  },
  "language_info": {
   "codemirror_mode": {
    "name": "ipython",
    "version": 3
   },
   "file_extension": ".py",
   "mimetype": "text/x-python",
   "name": "python",
   "nbconvert_exporter": "python",
   "pygments_lexer": "ipython3",
   "version": "3.6.3"
  }
 },
 "nbformat": 4,
 "nbformat_minor": 2
}

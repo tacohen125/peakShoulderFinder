{
 "cells": [
  {
   "cell_type": "markdown",
   "metadata": {},
   "source": [
    "# Shoulder Peak Finder"
   ]
  },
  {
   "cell_type": "markdown",
   "metadata": {},
   "source": [
    "This function accepts a list of y values, and then calculates the first and second order differential. If the first order differential is positive, then the shoulder will be present when the second order differential is positive as well. If the first order differential is negative, then the shoulder will be present when the second order differential is negative as well. \n",
    "\n",
    "A simple case of this is shown in the first example. A more complex case is shown in the second example"
   ]
  },
  {
   "cell_type": "code",
   "execution_count": 107,
   "metadata": {},
   "outputs": [
    {
     "ename": "IndentationError",
     "evalue": "unindent does not match any outer indentation level (<ipython-input-107-0ff82d6312ad>, line 31)",
     "output_type": "error",
     "traceback": [
      "\u001b[0;36m  File \u001b[0;32m\"<ipython-input-107-0ff82d6312ad>\"\u001b[0;36m, line \u001b[0;32m31\u001b[0m\n\u001b[0;31m    yfilter = signal.savgol_filter(y, frame, order)\u001b[0m\n\u001b[0m                                                   ^\u001b[0m\n\u001b[0;31mIndentationError\u001b[0m\u001b[0;31m:\u001b[0m unindent does not match any outer indentation level\n"
     ]
    }
   ],
   "source": [
    "import numpy as np\n",
    "import pandas as pd\n",
    "from scipy import signal\n",
    "\n",
    "def peak_shoulder_index(y, frame=5, order=3, returnInflection=False, returnPeak=True, returnY=False, threshold=0.005):\n",
    "     '''Determines the locations of peaks and inflection points of a signal.\n",
    "\n",
    "     Iteratively performs a polynomial fitting in the data to detect its\n",
    "     baseline. At every iteration, the fitting weights on the regions with\n",
    "     peaks are reduced to identify the baseline only.\n",
    "     Parameters\n",
    "     ----------\n",
    "     y : ndarray\n",
    "         Data to detect the baseline.\n",
    "     deg : int\n",
    "         Degree of the polynomial that will estimate the data baseline. A low\n",
    "         degree may fail to detect all the baseline present, while a high\n",
    "         degree may make the data too oscillatory, especially at the edges.\n",
    "     max_it : int\n",
    "         Maximum number of iterations to perform.\n",
    "     tol : float\n",
    "         Tolerance to use when comparing the difference between the current\n",
    "         fit coefficient and the ones from the last iteration. The iteration\n",
    "         procedure will stop when the difference between them is lower than\n",
    "         *tol*.\n",
    "     Returns\n",
    "     -------\n",
    "     ndarray\n",
    "         Array with the baseline amplitude for every original point in *y*'''\n",
    "\n",
    "    yfilter = signal.savgol_filter(y, frame, order)\n",
    "\n",
    "    inflection_points_index, peaks_index = index_return(yfilter, threshold=threshold)\n",
    "\n",
    "    if returnY == False:\n",
    "         if returnInflection == True and returnPeak == True:\n",
    "            return peaks_index, inflection_points_index\n",
    "         elif returnInflection == False and returnPeak == True:\n",
    "            return peaks_index\n",
    "         else:\n",
    "            return inflection_points_index\n",
    "\n",
    "    else:\n",
    "         if returnInflection == True and returnPeak == True:\n",
    "            return peaks_index, inflection_points_index, yfilter\n",
    "         elif returnInflection == False and returnPeak == True:\n",
    "            return peaks_index, yfilter\n",
    "          else:\n",
    "            return inflection_points_index, yfilter\n"
   ]
  },
  {
   "cell_type": "code",
   "execution_count": 108,
   "metadata": {
    "collapsed": true
   },
   "outputs": [],
   "source": [
    "def index_return(y_list, threshold=0.0025):\n",
    "    '''\n",
    "Input a y list, and peak_shoulder_finder will return a list of indexes\n",
    "for all inflection points and all peaks\n",
    "\n",
    "inflection_points_index, peaks_index = peak_shoulder_finder(y_list)\n",
    "\n",
    "'''\n",
    "\n",
    "    # calculate the first and second derivatives of the y list\n",
    "    dy = np.diff(y_list)\n",
    "    dydy = np.diff(dy)\n",
    "\n",
    "    # convert values to list and dataframe\n",
    "    y_list = y_list[2:].tolist()\n",
    "    dy_list = dy[1:].tolist()\n",
    "    dydy_list = dydy.tolist()\n",
    "    all_lists = pd.DataFrame(\n",
    "        {'y': y_list,\n",
    "         'dy': dy_list,\n",
    "         'dydy': dydy_list})\n",
    "\n",
    "    inflection_points_index = []\n",
    "    peaks_index = []\n",
    "    differences_first_list = []\n",
    "    #differences_second_list = []\n",
    "\n",
    "    for i in range(0, len(all_lists)-1):\n",
    "\n",
    "        #calculate the directions of the first and second derivatives\n",
    "        #if the first and second derivate pass through zero from positive to\n",
    "        #negative or vice versa\n",
    "        first_derivative = (all_lists.iloc[i-1]['dy']>=0\n",
    "                                >= all_lists.iloc[i]['dy'])\n",
    "        first_derivative_positive = all_lists.iloc[i-1]['dy']>0\n",
    "        first_derivative_negative = all_lists.iloc[i-1]['dy']<0\n",
    "        second_derivative_positive = (all_lists.iloc[i-1]['dydy']<=0\n",
    "                                        <=all_lists.iloc[i]['dydy'])\n",
    "        second_derivative_negative = (all_lists.iloc[i-1]['dydy']>=0\n",
    "                                        >=all_lists.iloc[i]['dydy'])\n",
    "\n",
    "        #add the desired first and second derivatives to a list and return\n",
    "        if first_derivative:\n",
    "            peaks_index.append(i)\n",
    "\n",
    "        if first_derivative_positive and second_derivative_positive:\n",
    "            inflection_points_index.append(i)\n",
    "            difference_first = all_lists.iloc[i:i+2]['dydy'].mean()\n",
    "            differences_first_list.append(difference_first)\n",
    "            #difference_second = all_lists.iloc[i]['dydy'] - all_lists.iloc[i-1]['dydy']\n",
    "            #differences_second_list.append(difference_second)\n",
    "\n",
    "        if not first_derivative_positive and second_derivative_negative:\n",
    "            inflection_points_index.append(i)\n",
    "            difference_first = all_lists.iloc[i:i+2]['dydy'].mean()\n",
    "            differences_first_list.append(difference_first)\n",
    "            #difference_second = all_lists.iloc[i]['dydy'] - all_lists.iloc[i-1]['dydy']\n",
    "            #differences_second_list.append(difference_second)\n",
    "\n",
    "    inflection_points = pd.DataFrame(\n",
    "        {'indexes': inflection_points_index,\n",
    "         'differences first': differences_first_list,\n",
    "         #'differences second': differences_second_list\n",
    "        })\n",
    "\n",
    "    #inflection_points_index = [int(i) for i in np.abs(inflection_points).sort_values('differences', ascending = True).reset_index(drop = True).loc[:number_of_inflections-1]['indexes'].tolist()]\n",
    "\n",
    "    inflection_points_index = inflection_points[np.abs(inflection_points['differences first'])<threshold]['indexes'].values\n",
    "\n",
    "    return inflection_points_index, peaks_index"
   ]
  },
  {
   "cell_type": "markdown",
   "metadata": {},
   "source": [
    "### Example 1: Using an artifically created dataset"
   ]
  },
  {
   "cell_type": "code",
   "execution_count": 110,
   "metadata": {
    "scrolled": false
   },
   "outputs": [
    {
     "data": {
      "text/plain": [
       "[<matplotlib.lines.Line2D at 0x11390d950>]"
      ]
     },
     "execution_count": 110,
     "metadata": {},
     "output_type": "execute_result"
    },
    {
     "data": {
      "image/png": "[encoded data removed]",
      "text/plain": [
       "<matplotlib.figure.Figure at 0x113f3b290>"
      ]
     },
     "metadata": {},
     "output_type": "display_data"
    }
   ],
   "source": [
    "# using an artificial dataset\n",
    "pts=100 \n",
    "x=np.linspace(-5,5,num=pts)\n",
    "yactual_1 = np.sin(x * 0.5*np.pi)\n",
    "yactual_2 = -(0.5 * (x-2))**2\n",
    "yactual_3 = -(0.5* (x+2))**2\n",
    "yactual_4 = yactual_1 + yactual_2 + yactual_3\n",
    "\n",
    "inflection_points_index_1, peaks_index_1 = index_return(yactual_4, threshold=0.005)\n",
    "\n",
    "pyplot.figure(figsize=(10,6))\n",
    "pyplot.plot(x, yactual_4)\n",
    "pyplot.plot(x[peaks_index_1], yactual_4[peaks_index_1], 'o')\n",
    "pyplot.plot(x[inflection_points_index_1], yactual_4[inflection_points_index_1], 'o')"
   ]
  },
  {
   "cell_type": "markdown",
   "metadata": {},
   "source": [
    "### Example 2: Using a real, noisy, dataset"
   ]
  },
  {
   "cell_type": "code",
   "execution_count": null,
   "metadata": {
    "scrolled": false
   },
   "outputs": [],
   "source": [
    "# file 1\n",
    "\n",
    "file_1 = pd.read_csv('../JaganData/3C4-S11td-072817.dat', names = ['x', 'y' , 'bad'], skiprows = 3)\n",
    "file_1 = file_1[['x', 'y']]\n",
    "inflection_points_index_1, peaks_index_1 = index_return(file_1['y'], threshold=0.005)\n",
    "\n",
    "pyplot.figure(figsize=(10,6))\n",
    "pyplot.plot(file_1['x'], file_1['y'])\n",
    "pyplot.plot(file_1['x'][peaks_index_1], file_1['y'][peaks_index_1], 'o')\n",
    "pyplot.plot(file_1['x'][inflection_points_index_1], file_1['y'][inflection_points_index_1], 'o')\n",
    "\n",
    "# file 2\n",
    "\n",
    "file_2 = pd.read_csv('../JaganData/4C4-S11td-072817.dat', names = ['x', 'y' , 'bad'], skiprows = 3)\n",
    "file_2 = file_2[['x', 'y']]\n",
    "inflection_points_index_2, peaks_index_2 = index_return(file_2['y'], threshold=0.005)\n",
    "\n",
    "pyplot.figure(figsize=(10,6))\n",
    "pyplot.plot(file_2['x'], file_2['y'])\n",
    "pyplot.plot(file_2['x'][peaks_index_2], file_2['y'][peaks_index_2], 'o')\n",
    "pyplot.plot(file_2['x'][inflection_points_index_2], file_2['y'][inflection_points_index_2], 'o')\n",
    "\n",
    "# file 3\n",
    "\n",
    "file_3 = pd.read_csv('../JaganData/5C4-S11td-072817.dat', names = ['x', 'y' , 'bad'], skiprows = 3)\n",
    "file_3 = file_3[['x', 'y']]\n",
    "inflection_points_index_3, peaks_index_3 = index_return(file_3['y'], threshold=0.005)\n",
    "\n",
    "pyplot.figure(figsize=(10,6))\n",
    "pyplot.plot(file_3['x'], file_3['y'])\n",
    "pyplot.plot(file_3['x'][peaks_index_3], file_3['y'][peaks_index_3], 'o')\n",
    "pyplot.plot(file_3['x'][inflection_points_index_3], file_3['y'][inflection_points_index_3], 'o')"
   ]
  },
  {
   "cell_type": "code",
   "execution_count": null,
   "metadata": {
    "collapsed": true
   },
   "outputs": [],
   "source": []
  }
 ],
 "metadata": {
  "kernelspec": {
   "display_name": "Python 2",
   "language": "python",
   "name": "python2"
  },
  "language_info": {
   "codemirror_mode": {
    "name": "ipython",
    "version": 2
   },
   "file_extension": ".py",
   "mimetype": "text/x-python",
   "name": "python",
   "nbconvert_exporter": "python",
   "pygments_lexer": "ipython2",
   "version": "2.7.10"
  }
 },
 "nbformat": 4,
 "nbformat_minor": 2
}
